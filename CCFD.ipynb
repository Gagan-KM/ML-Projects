{
 "cells": [
  {
   "cell_type": "markdown",
   "id": "c236a170-6ddb-483f-a974-e7c600db781e",
   "metadata": {},
   "source": [
    "#                                                              CREDIT CARD FRAUD DETECTION"
   ]
  },
  {
   "cell_type": "code",
   "execution_count": null,
   "id": "e351f8cb-e3c9-49ec-b2da-2e244dfceb76",
   "metadata": {},
   "outputs": [],
   "source": [
    "import numpy as np\n",
    "import pandas as pd\n",
    "import sklearn\n",
    "import matplotlib.pyplot as  plt\n",
    "import seaborn as sns\n",
    "import tkinter as tk\n",
    "from tkinter import filedialog\n",
    "from sklearn.model_selection import train_test_split\n",
    "from sklearn.linear_model import LogisticRegression\n",
    "from sklearn.metrics import classification_report,accuracy_score\n",
    "from sklearn.preprocessing import StandardScaler\n",
    "from sklearn.metrics import accuracy_score\n",
    "from sklearn.preprocessing import StandardScaler"
   ]
  },
  {
   "cell_type": "markdown",
   "id": "baa3f006-6682-4e78-9dcb-93a969c7a066",
   "metadata": {},
   "source": [
    "## About Dataset\r\n",
    "This is a simulated credit card transaction dataset containing legitimate and fraud transactions from the duration 1st Jan 2019 - 31st Dec 2020. It covers credit cards of 1000 customers doing transactions with a pool of 800 merchants.\r\n",
    "saction datasets.saction datasets.saction datasets."
   ]
  },
  {
   "cell_type": "code",
   "execution_count": null,
   "id": "6056d884-c984-46f3-bdef-a8cd1c35cc06",
   "metadata": {},
   "outputs": [],
   "source": [
    "trd = pd.read_csv(r'C:/Users/gagan/Downloads/archive/fraudTrain.csv')"
   ]
  },
  {
   "cell_type": "code",
   "execution_count": null,
   "id": "14bc278f-70cc-426e-8247-5d667559e6c6",
   "metadata": {},
   "outputs": [],
   "source": [
    "trd.head(5)"
   ]
  },
  {
   "cell_type": "markdown",
   "id": "76fd22d1-74c6-4be2-900f-3487dd9a6687",
   "metadata": {},
   "source": [
    "## Dataset Infromation"
   ]
  },
  {
   "cell_type": "code",
   "execution_count": null,
   "id": "9fe90057-88e1-4e94-a652-239352741b73",
   "metadata": {},
   "outputs": [],
   "source": [
    "trd.info()"
   ]
  },
  {
   "cell_type": "markdown",
   "id": "4f96ae19-518f-435b-9816-53c115798886",
   "metadata": {},
   "source": [
    "## Checking for number of missing values in each column"
   ]
  },
  {
   "cell_type": "code",
   "execution_count": null,
   "id": "c116d7da-374e-491a-aa0b-91f37d56ea9f",
   "metadata": {
    "scrolled": true
   },
   "outputs": [],
   "source": [
    "trd.isnull().sum()"
   ]
  },
  {
   "cell_type": "markdown",
   "id": "35ebefed-90bb-4b8d-8475-b7d8a0111bf3",
   "metadata": {},
   "source": [
    "# Exploratory Data Analysis\n",
    "\n",
    "### Distribution of Legit and Fraudlent transaction"
   ]
  },
  {
   "cell_type": "code",
   "execution_count": null,
   "id": "abad31ab-187c-404e-880b-a2532f24e155",
   "metadata": {},
   "outputs": [],
   "source": [
    "trd['is_fraud'].value_counts()"
   ]
  },
  {
   "cell_type": "code",
   "execution_count": null,
   "id": "c81bdddd-8174-47e3-941c-da6882a1d6ff",
   "metadata": {},
   "outputs": [],
   "source": [
    "LABELS = [\"Normal\", \"Fraud\"]\n",
    "count_classes = pd.Series(trd['is_fraud']).value_counts(sort=True)\n",
    "count_classes.plot(kind = 'bar', rot=0)\n",
    "plt.title(\"Transaction Class Distribution\")\n",
    "plt.xticks(range(2), LABELS)\n",
    "plt.xlabel(\"Class\")\n",
    "plt.ylabel(\"Frequency\")"
   ]
  },
  {
   "cell_type": "markdown",
   "id": "e0df9ca8-ccbb-483f-817f-c9daebb01923",
   "metadata": {},
   "source": [
    "### Seperating the data for Analysis"
   ]
  },
  {
   "cell_type": "code",
   "execution_count": null,
   "id": "ac450c57-c393-44c4-8263-d93a4d7f7cbb",
   "metadata": {},
   "outputs": [],
   "source": [
    "legit = trd[trd.is_fraud==0]\n",
    "fraud = trd[trd.is_fraud==1]"
   ]
  },
  {
   "cell_type": "code",
   "execution_count": null,
   "id": "d49cef24-cdee-49f6-b734-e5e2d9e31972",
   "metadata": {},
   "outputs": [],
   "source": [
    "legit.shape"
   ]
  },
  {
   "cell_type": "code",
   "execution_count": null,
   "id": "a2cb643a-8379-4f9a-b981-94d295c1d7c1",
   "metadata": {},
   "outputs": [],
   "source": [
    "fraud.shape"
   ]
  },
  {
   "cell_type": "markdown",
   "id": "31bcf9eb-0df0-45df-8a06-50b2b8ab7314",
   "metadata": {},
   "source": [
    "### Statistical measures of the data"
   ]
  },
  {
   "cell_type": "code",
   "execution_count": null,
   "id": "d6617466-c520-48e2-99a5-13a3c588239f",
   "metadata": {},
   "outputs": [],
   "source": [
    "legit.amt.describe()\n",
    "fraud.amt.describe()"
   ]
  },
  {
   "cell_type": "code",
   "execution_count": null,
   "id": "4951c976-bda4-4180-bf77-621fe3be10d8",
   "metadata": {},
   "outputs": [],
   "source": [
    "f, (ax1, ax2) = plt.subplots(2, 1, sharex=True)\n",
    "f.suptitle('Amount per transaction by class')\n",
    "bins = 50\n",
    "ax1.hist(fraud.amt, bins = bins)\n",
    "ax1.set_title('Fraud')\n",
    "ax2.hist(legit.amt, bins = bins)\n",
    "ax2.set_title('Legit')\n",
    "plt.xlabel('Amount ($)')\n",
    "plt.ylabel('Number of Transactions')\n",
    "plt.xlim((0, 20000))\n",
    "plt.yscale('log')\n",
    "plt.show()"
   ]
  },
  {
   "cell_type": "markdown",
   "id": "86e3ce84-f0f2-4ba8-8ae9-30cba78b9a6c",
   "metadata": {},
   "source": [
    "### Undersampling\n"
   ]
  },
  {
   "cell_type": "code",
   "execution_count": null,
   "id": "7169d659-0c36-4335-9d75-430ddb9ca1f4",
   "metadata": {},
   "outputs": [],
   "source": [
    "new_legit = legit.sample(n=492)\n",
    "new_legit\n",
    "new_df = pd.concat([new_legit,fraud], axis=0)\n",
    "new_df.sample(6)\n",
    "new_df['is_fraud'].value_counts()"
   ]
  },
  {
   "cell_type": "code",
   "execution_count": null,
   "id": "c54b1314-302e-4c89-912b-9f5e0ae8d91a",
   "metadata": {},
   "outputs": [],
   "source": [
    "trd = new_df.drop(columns='is_fraud', axis=1)\n",
    "ted = new_df['is_fraud']\n",
    "print(trd)\n",
    "print(ted)"
   ]
  },
  {
   "cell_type": "code",
   "execution_count": null,
   "id": "af9ff5e3-62f0-4fbe-8cbc-830a4a26ad5c",
   "metadata": {},
   "outputs": [],
   "source": [
    "numerical_columns = ['amt', 'lat', 'long', 'city_pop', 'unix_time', 'merch_lat', 'merch_long']\n",
    "trd = trd[numerical_columns]\n",
    "print(trd.head(5))\n",
    "for i in trd:\n",
    "    print(i)"
   ]
  },
  {
   "cell_type": "code",
   "execution_count": null,
   "id": "6f71efaf-6f62-464f-8b8a-08045f8a9e19",
   "metadata": {},
   "outputs": [],
   "source": [
    "X_train, X_test, Y_train, Y_test = train_test_split(trd, ted, test_size=0.1, random_state=2)\n",
    "print(X_train.shape, X_test.shape)"
   ]
  },
  {
   "cell_type": "markdown",
   "id": "239640e1-60ab-43e1-8fa1-475a92839361",
   "metadata": {},
   "source": [
    "## Model Training Using LogisticRegression"
   ]
  },
  {
   "cell_type": "code",
   "execution_count": null,
   "id": "fe85ca91-1744-435d-b8c9-dd0d41d8000c",
   "metadata": {},
   "outputs": [],
   "source": [
    "model = LogisticRegression()\n",
    "model.fit(X_train.values, Y_train)"
   ]
  },
  {
   "cell_type": "code",
   "execution_count": null,
   "id": "09b77ed0-a657-430e-9ff2-67347a062b40",
   "metadata": {},
   "outputs": [],
   "source": [
    "X_train_prediction = model.predict(X_train.values)\n",
    "training_data_accuracy = accuracy_score(X_train_prediction, Y_train)\n",
    "print('Accuracy on Training data : ', training_data_accuracy)"
   ]
  },
  {
   "cell_type": "code",
   "execution_count": null,
   "id": "c286fd42-d15c-496c-b6b0-01c1ca1994d8",
   "metadata": {},
   "outputs": [],
   "source": [
    "X_test_prediction = model.predict(X_test.values)\n",
    "test_data_accuracy = accuracy_score(X_test_prediction, Y_test)\n",
    "print('Accuracy on Testing data: ',test_data_accuracy)"
   ]
  },
  {
   "cell_type": "code",
   "execution_count": null,
   "id": "8ea63754-8d39-4e85-9fda-cf4f5fbe9f52",
   "metadata": {},
   "outputs": [],
   "source": [
    "def predict_credit_card_scam(input_data):\n",
    "    input_data = input_data[numerical_columns]\n",
    "    input_data_scaled = sklearn.preprocessing.StandardScaler().fit_transform(input_data)\n",
    "    predictions = model.predict(input_data_scaled)\n",
    "    return predictions\n",
    "def get_file():\n",
    "    file_path = filedialog.askopenfilename()\n",
    "    if file_path:\n",
    "        selected_file_label.config(text=\"Selected file: \" + file_path)\n",
    "        global ted \n",
    "        ted = pd.read_csv(file_path)\n",
    "        print(\"File loaded into 'ted' variable.\")\n",
    "        ted2 = ted\n",
    "        numerical_columns = ['amt', 'lat', 'long', 'city_pop', 'unix_time', 'merch_lat', 'merch_long']\n",
    "        ted = ted[numerical_columns]\n",
    "        ted.columns = numerical_columns\n",
    "        predictions = predict_credit_card_scam(ted)\n",
    "        for i in predictions:\n",
    "            if i==1:\n",
    "                print(f\"Fraud {i}\")\n",
    "            else:\n",
    "                print(f\"Genuine {i}\")\n",
    "root = tk.Tk()\n",
    "button = tk.Button(root, text=\"Select your test file\", command=get_file)\n",
    "button.pack(pady=100)\n",
    "selected_file_label = tk.Label(root, text=\"Selected file: None\")\n",
    "selected_file_label.pack()\n",
    "root.geometry(\"300x300\") \n",
    "root.mainloop()"
   ]
  }
 ],
 "metadata": {
  "kernelspec": {
   "display_name": "Python 3 (ipykernel)",
   "language": "python",
   "name": "python3"
  },
  "language_info": {
   "codemirror_mode": {
    "name": "ipython",
    "version": 3
   },
   "file_extension": ".py",
   "mimetype": "text/x-python",
   "name": "python",
   "nbconvert_exporter": "python",
   "pygments_lexer": "ipython3",
   "version": "3.11.7"
  }
 },
 "nbformat": 4,
 "nbformat_minor": 5
}
